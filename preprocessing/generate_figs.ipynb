{
 "cells": [
  {
   "cell_type": "code",
   "execution_count": 1,
   "metadata": {},
   "outputs": [],
   "source": [
    "import pandas as pd \n",
    "\n",
    "data = pd.read_csv(\"../data/train_test_split/reddit_post_cleaned.csv\")"
   ]
  },
  {
   "cell_type": "code",
   "execution_count": 5,
   "metadata": {},
   "outputs": [],
   "source": [
    "# generate a sumamry of the E-I N-S F-T J-P columns\n",
    "ei_count = data['E-I'].value_counts()\n",
    "ns_count = data['N-S'].value_counts()\n",
    "ft_count = data['F-T'].value_counts()\n",
    "jp_count = data['J-P'].value_counts()"
   ]
  },
  {
   "cell_type": "code",
   "execution_count": 8,
   "metadata": {},
   "outputs": [],
   "source": [
    "# calculate the percentage of each type\n",
    "ei_percent = ei_count / len(data)\n",
    "ns_percent = ns_count / len(data)\n",
    "ft_percent = ft_count / len(data)\n",
    "jp_percent = jp_count / len(data)"
   ]
  },
  {
   "cell_type": "code",
   "execution_count": 9,
   "metadata": {},
   "outputs": [],
   "source": [
    "# calculate the minimum f1 score for each type\n",
    "ei_max = max(ei_percent)\n",
    "ns_max = max(ns_percent)\n",
    "ft_max = max(ft_percent)\n",
    "jp_max = max(jp_percent)\n",
    "\n",
    "# calculate the maximum f1 score for each type\n",
    "ei_f1 = 2 * (ei_max / (ei_max + 1))\n",
    "ns_f1 = 2 * (ns_max / (ns_max + 1))\n",
    "ft_f1 = 2 * (ft_max / (ft_max + 1))\n",
    "jp_f1 = 2 * (jp_max / (jp_max + 1))"
   ]
  },
  {
   "cell_type": "code",
   "execution_count": 10,
   "metadata": {},
   "outputs": [
    {
     "name": "stdout",
     "output_type": "stream",
     "text": [
      "E-I accuracy:  0.7885756606150491\n",
      "E-I F1 score:  0.8817917832381511\n",
      "N-S accuracy:  0.9260319312301046\n",
      "N-S F1 score:  0.9615956165780419\n",
      "F-T accuracy:  0.5386254879120559\n",
      "F-T F1 score:  0.7001385225237376\n",
      "J-P accuracy:  0.5918938738682876\n",
      "J-P F1 score:  0.7436348409708882\n"
     ]
    }
   ],
   "source": [
    "# print accuracy and f1 score\n",
    "print(\"E-I accuracy: \", ei_max)\n",
    "print(\"E-I F1 score: \", ei_f1)\n",
    "print(\"N-S accuracy: \", ns_max)\n",
    "print(\"N-S F1 score: \", ns_f1)\n",
    "print(\"F-T accuracy: \", ft_max)\n",
    "print(\"F-T F1 score: \", ft_f1)\n",
    "print(\"J-P accuracy: \", jp_max)\n",
    "print(\"J-P F1 score: \", jp_f1)"
   ]
  }
 ],
 "metadata": {
  "kernelspec": {
   "display_name": ".venv",
   "language": "python",
   "name": "python3"
  },
  "language_info": {
   "codemirror_mode": {
    "name": "ipython",
    "version": 3
   },
   "file_extension": ".py",
   "mimetype": "text/x-python",
   "name": "python",
   "nbconvert_exporter": "python",
   "pygments_lexer": "ipython3",
   "version": "3.12.3"
  }
 },
 "nbformat": 4,
 "nbformat_minor": 2
}

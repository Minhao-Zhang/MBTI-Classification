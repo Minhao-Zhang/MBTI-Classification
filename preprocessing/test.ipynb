{
 "cells": [
  {
   "cell_type": "code",
   "execution_count": 21,
   "metadata": {},
   "outputs": [],
   "source": [
    "import pandas as pd \n",
    "import matplotlib.pyplot as plt\n",
    "\n",
    "DATA_PATH = \"../data/\""
   ]
  },
  {
   "cell_type": "code",
   "execution_count": 22,
   "metadata": {},
   "outputs": [],
   "source": [
    "data = pd.read_csv(f'{DATA_PATH}reddit_post.csv')\n",
    "# combined_data = pd.read_csv(f'{DATA_PATH}reddit_post_combined.csv')"
   ]
  },
  {
   "cell_type": "code",
   "execution_count": 23,
   "metadata": {},
   "outputs": [],
   "source": [
    "# plot the histogram of the length of body in combined data\n",
    "# combined_data['body'].str.len().hist()\n",
    "# print(combined_data['body'].str.len().describe())"
   ]
  },
  {
   "cell_type": "code",
   "execution_count": 24,
   "metadata": {},
   "outputs": [
    {
     "name": "stdout",
     "output_type": "stream",
     "text": [
      "          author    body    mbti\n",
      "count     159207  159207  159207\n",
      "unique      5363  158831      16\n",
      "top     roland00            INTP\n",
      "freq        4125      15   32418\n"
     ]
    }
   ],
   "source": [
    "def split_2000(data: pd.DataFrame):\n",
    "    # find data that are longer than 2000 characters \n",
    "    data_long = data[data['body'].str.len() > 2000]\n",
    "    # remove data that are longer than 2000 characters\n",
    "    data = data[data['body'].str.len() <= 2000]\n",
    "    # split the data that are longer than 2000 characters into multiple rows\n",
    "    new_rows = []\n",
    "    # find the index of the first space after 1000 characters\n",
    "    for index, row in data_long.iterrows():        \n",
    "        body = row['body']\n",
    "        first_space = body.find(' ', 800)\n",
    "        new_rows.append({\n",
    "            'author': row['author'],\n",
    "            'body': body[:first_space].strip(),\n",
    "            'mbti': row['mbti']\n",
    "        })\n",
    "        second_space = body.find(' ', first_space+800)\n",
    "        new_rows.append({\n",
    "            'author': row['author'],\n",
    "            'body': body[first_space:second_space].strip(),\n",
    "            'mbti': row['mbti']\n",
    "        })\n",
    "        new_rows.append({\n",
    "            'author': row['author'],\n",
    "            'body': body[second_space:].strip(),\n",
    "            'mbti': row['mbti']\n",
    "        })\n",
    "    temp_df = pd.DataFrame(new_rows)\n",
    "    print(temp_df.describe())\n",
    "    data = pd.concat([data, temp_df])\n",
    "    return data\n",
    "data = split_2000(data)"
   ]
  },
  {
   "cell_type": "code",
   "execution_count": 25,
   "metadata": {},
   "outputs": [
    {
     "name": "stdout",
     "output_type": "stream",
     "text": [
      "        author    body    mbti\n",
      "count   209524  209524  209524\n",
      "unique    7101  209286      16\n",
      "top      Kafke       7    INTP\n",
      "freq      3174      12   41932\n"
     ]
    }
   ],
   "source": [
    "def split_1400(data: pd.DataFrame):\n",
    "    # find data that are longer than 1600 characters \n",
    "    data_long = data[data['body'].str.len() > 1400]\n",
    "    # remove data that are longer than 1600 characters\n",
    "    data = data[data['body'].str.len() <= 1400]\n",
    "    # split the data that are longer than 1600 characters into multiple rows\n",
    "    new_rows = []\n",
    "    # find the index of the first space after 800 characters\n",
    "    for index, row in data_long.iterrows():        \n",
    "        body = row['body']\n",
    "        sep = len(body) // 2\n",
    "        first_space = body.find(' ', sep)\n",
    "        new_rows.append({\n",
    "            'author': row['author'],\n",
    "            'body': body[:first_space].strip(),\n",
    "            'mbti': row['mbti']\n",
    "        })\n",
    "        new_rows.append({\n",
    "            'author': row['author'],\n",
    "            'body': body[first_space:].strip(),\n",
    "            'mbti': row['mbti']\n",
    "        })\n",
    "    temp_df = pd.DataFrame(new_rows)\n",
    "    print(temp_df.describe())\n",
    "    data = pd.concat([data, temp_df])\n",
    "    return data\n",
    "data = split_1400(data)"
   ]
  },
  {
   "cell_type": "code",
   "execution_count": 26,
   "metadata": {},
   "outputs": [
    {
     "name": "stdout",
     "output_type": "stream",
     "text": [
      "        author                                               body    mbti\n",
      "count   400116                                             400116  400116\n",
      "unique    8548                                             399647      16\n",
      "top      Kafke  associated with that brandideologyindividual  ...    INTP\n",
      "freq      4688                                                 15   80202\n"
     ]
    },
    {
     "data": {
      "text/plain": [
       "<Axes: >"
      ]
     },
     "execution_count": 26,
     "metadata": {},
     "output_type": "execute_result"
    },
    {
     "data": {
      "image/png": "[encoded data removed]",
      "text/plain": [
       "<Figure size 640x480 with 1 Axes>"
      ]
     },
     "metadata": {},
     "output_type": "display_data"
    }
   ],
   "source": [
    "def split_1000(data: pd.DataFrame):\n",
    "    # find data that are longer than 1000 characters \n",
    "    data_long = data[data['body'].str.len() > 1000]\n",
    "    # remove data that are longer than 1000 characters\n",
    "    data = data[data['body'].str.len() <= 1000]\n",
    "    # split the data that are longer than 1000 characters into multiple rows\n",
    "    new_rows = []\n",
    "    # find the index of the first space after 500 characters\n",
    "    for index, row in data_long.iterrows():        \n",
    "        body = row['body']\n",
    "        # find the last space after 1000 characters\n",
    "        first_space = body.find(' ', 900)\n",
    "        new_rows.append({\n",
    "            'author': row['author'],\n",
    "            'body': body[:first_space].strip(),\n",
    "            'mbti': row['mbti']\n",
    "        })\n",
    "        new_rows.append({\n",
    "            'author': row['author'],\n",
    "            'body': body[first_space:].strip(),\n",
    "            'mbti': row['mbti']\n",
    "        })\n",
    "    temp_df = pd.DataFrame(new_rows)\n",
    "    print(temp_df.describe())\n",
    "    data = pd.concat([data, temp_df])\n",
    "    return data\n",
    "data = split_1000(data)\n",
    "# plot the histogram of the length of body in data\n",
    "data['body'].str.len().hist(bins=50)"
   ]
  },
  {
   "cell_type": "code",
   "execution_count": 27,
   "metadata": {},
   "outputs": [
    {
     "name": "stdout",
     "output_type": "stream",
     "text": [
      "            author                                               body     mbti\n",
      "count      3170074                                            3170074  3170074\n",
      "unique       11477                                            3169389       16\n",
      "top     bunker_man  wipes out the pathetic little thing you call y...     INFP\n",
      "freq         29708                                                 12   679023\n",
      "<class 'pandas.core.frame.DataFrame'>\n",
      "Index: 3170074 entries, 0 to 3179480\n",
      "Data columns (total 3 columns):\n",
      " #   Column  Dtype \n",
      "---  ------  ----- \n",
      " 0   author  object\n",
      " 1   body    object\n",
      " 2   mbti    object\n",
      "dtypes: object(3)\n",
      "memory usage: 96.7+ MB\n",
      "None\n"
     ]
    },
    {
     "data": {
      "image/png": "[encoded data removed]",
      "text/plain": [
       "<Figure size 640x480 with 1 Axes>"
      ]
     },
     "metadata": {},
     "output_type": "display_data"
    }
   ],
   "source": [
    "# Function to concatenate body strings of each author\n",
    "def concatenate_bodies(group, min_length):\n",
    "    concatenated = ''\n",
    "    for body in group['body']:\n",
    "        if len(body) >= min_length:\n",
    "            yield body.strip()\n",
    "        else:\n",
    "            if len(concatenated) > 0:\n",
    "                concatenated += ' '\n",
    "            concatenated += body.strip()\n",
    "            if len(concatenated) >= min_length:\n",
    "                yield concatenated\n",
    "                concatenated = ''\n",
    "    if len(concatenated) > 0:\n",
    "        yield concatenated\n",
    "\n",
    "# List to collect the new rows\n",
    "new_rows = []\n",
    "\n",
    "n = 700\n",
    "\n",
    "# Group by 'author' and process each group\n",
    "for author, group in data.groupby('author'):\n",
    "    for concatenated_body in concatenate_bodies(group, n):\n",
    "        new_rows.append({\n",
    "            'author': author,\n",
    "            'body': concatenated_body,\n",
    "            'mbti': group.iloc[0]['mbti']  # assuming 'mbti' is the same for all rows of the same author\n",
    "        })\n",
    "\n",
    "# Create a new DataFrame from the new rows\n",
    "new_df = pd.DataFrame(new_rows)\n",
    "\n",
    "# remove rows with length less than n \n",
    "new_df = new_df[new_df['body'].str.len() >= n]\n",
    "# plot the histogram of the length of body in new data bin=50\n",
    "new_df['body'].str.len().hist(bins=50)\n",
    "print(new_df.describe())\n",
    "print(new_df.info())"
   ]
  },
  {
   "cell_type": "code",
   "execution_count": 28,
   "metadata": {},
   "outputs": [
    {
     "data": {
      "text/plain": [
       "<Axes: >"
      ]
     },
     "execution_count": 28,
     "metadata": {},
     "output_type": "execute_result"
    },
    {
     "data": {
      "image/png": "[encoded data removed]",
      "text/plain": [
       "<Figure size 640x480 with 1 Axes>"
      ]
     },
     "metadata": {},
     "output_type": "display_data"
    }
   ],
   "source": [
    "# trim body to the last space before 1000 \n",
    "\n",
    "def trim_body(data: pd.DataFrame, n: int):\n",
    "    data_long = data[data['body'].str.len() > n]\n",
    "    data = data[data['body'].str.len() < n]\n",
    "    new_rows = []\n",
    "    for index, row in data_long.iterrows():\n",
    "        body = row['body']\n",
    "        last_space = body.rfind(' ', 0, n)\n",
    "        new_rows.append({\n",
    "            'author': row['author'],\n",
    "            'body': body[:last_space].strip(),\n",
    "            'mbti': row['mbti']\n",
    "        })\n",
    "    temp_df = pd.DataFrame(new_rows)\n",
    "    data = pd.concat([data, temp_df])\n",
    "    return data\n",
    "new_df = trim_body(new_df, 1000)\n",
    "\n",
    "new_df['body'].str.len().hist(bins=50)"
   ]
  },
  {
   "cell_type": "code",
   "execution_count": 30,
   "metadata": {},
   "outputs": [
    {
     "data": {
      "text/html": [
       "<div>\n",
       "<style scoped>\n",
       "    .dataframe tbody tr th:only-of-type {\n",
       "        vertical-align: middle;\n",
       "    }\n",
       "\n",
       "    .dataframe tbody tr th {\n",
       "        vertical-align: top;\n",
       "    }\n",
       "\n",
       "    .dataframe thead th {\n",
       "        text-align: right;\n",
       "    }\n",
       "</style>\n",
       "<table border=\"1\" class=\"dataframe\">\n",
       "  <thead>\n",
       "    <tr style=\"text-align: right;\">\n",
       "      <th></th>\n",
       "      <th>author</th>\n",
       "      <th>body</th>\n",
       "      <th>mbti</th>\n",
       "    </tr>\n",
       "  </thead>\n",
       "  <tbody>\n",
       "    <tr>\n",
       "      <th>count</th>\n",
       "      <td>3167168</td>\n",
       "      <td>3167168</td>\n",
       "      <td>3167168</td>\n",
       "    </tr>\n",
       "    <tr>\n",
       "      <th>unique</th>\n",
       "      <td>11476</td>\n",
       "      <td>3166486</td>\n",
       "      <td>16</td>\n",
       "    </tr>\n",
       "    <tr>\n",
       "      <th>top</th>\n",
       "      <td>bunker_man</td>\n",
       "      <td>wipes out the pathetic little thing you call y...</td>\n",
       "      <td>INFP</td>\n",
       "    </tr>\n",
       "    <tr>\n",
       "      <th>freq</th>\n",
       "      <td>29681</td>\n",
       "      <td>12</td>\n",
       "      <td>678389</td>\n",
       "    </tr>\n",
       "  </tbody>\n",
       "</table>\n",
       "</div>"
      ],
      "text/plain": [
       "            author                                               body     mbti\n",
       "count      3167168                                            3167168  3167168\n",
       "unique       11476                                            3166486       16\n",
       "top     bunker_man  wipes out the pathetic little thing you call y...     INFP\n",
       "freq         29681                                                 12   678389"
      ]
     },
     "execution_count": 30,
     "metadata": {},
     "output_type": "execute_result"
    }
   ],
   "source": [
    "new_df.describe()"
   ]
  },
  {
   "cell_type": "code",
   "execution_count": null,
   "metadata": {},
   "outputs": [],
   "source": []
  }
 ],
 "metadata": {
  "kernelspec": {
   "display_name": ".venv",
   "language": "python",
   "name": "python3"
  },
  "language_info": {
   "codemirror_mode": {
    "name": "ipython",
    "version": 3
   },
   "file_extension": ".py",
   "mimetype": "text/x-python",
   "name": "python",
   "nbconvert_exporter": "python",
   "pygments_lexer": "ipython3",
   "version": "3.12.3"
  }
 },
 "nbformat": 4,
 "nbformat_minor": 2
}

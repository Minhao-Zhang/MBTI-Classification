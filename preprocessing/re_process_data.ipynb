{
 "cells": [
  {
   "cell_type": "code",
   "execution_count": 2,
   "metadata": {},
   "outputs": [],
   "source": [
    "import numpy \n",
    "import pandas "
   ]
  },
  {
   "cell_type": "code",
   "execution_count": 3,
   "metadata": {},
   "outputs": [],
   "source": [
    "RAW_PATH = \"../data/raw/\"\n",
    "TEMP_PATH = \"../data/temp/\"\n",
    "DATA_PATH = \"../data/train_test_split/\"\n",
    "\n",
    "RAW_FILE_NAME = \"full_pull_v20000000000\""
   ]
  },
  {
   "cell_type": "code",
   "execution_count": 4,
   "metadata": {},
   "outputs": [],
   "source": [
    "# import all 18 files from 00 to 17 and merge them into one file\n",
    "data = pandas.DataFrame()\n",
    "\n",
    "indexes = [str(i).zfill(2) for i in range(18)]\n",
    "\n",
    "for index in indexes:\n",
    "    file_name = RAW_PATH + RAW_FILE_NAME + index + \".csv\"\n",
    "    temp_data = pandas.read_csv(file_name)\n",
    "    data = pandas.concat([data, temp_data])\n"
   ]
  },
  {
   "cell_type": "code",
   "execution_count": 5,
   "metadata": {},
   "outputs": [],
   "source": [
    "# extract mbti\n",
    "data['mbti'] = data['flair_text'].str.extract(r'([I|E][N|S][F|T][J|P])')"
   ]
  },
  {
   "cell_type": "code",
   "execution_count": 6,
   "metadata": {},
   "outputs": [],
   "source": [
    "# remove flair_text and subreddit columns\n",
    "data = data.drop(columns=['flair_text', 'subreddit'])\n",
    "# remove rows without mbti \n",
    "data = data.dropna(subset=['mbti'])"
   ]
  },
  {
   "cell_type": "code",
   "execution_count": 7,
   "metadata": {},
   "outputs": [],
   "source": [
    "# remove any markdown-style url from the body column but keep the text\n",
    "data['body'] = data['body'].replace(r'\\[(.*?)\\]\\(.*?\\)', r'\\1', regex=True)"
   ]
  },
  {
   "cell_type": "code",
   "execution_count": 8,
   "metadata": {},
   "outputs": [],
   "source": [
    "# remove any url from the body column \n",
    "data['body'] = data['body'].replace(r'(http[s]?://|www\\.)\\S+', '', regex=True)"
   ]
  },
  {
   "cell_type": "code",
   "execution_count": 9,
   "metadata": {},
   "outputs": [],
   "source": [
    "# remove any reddit like link from the body column like r/ or u/\n",
    "data['body'] = data['body'].replace(r'[r|u]\\/\\S+', '', regex=True)"
   ]
  },
  {
   "cell_type": "code",
   "execution_count": 10,
   "metadata": {},
   "outputs": [],
   "source": [
    "# remove any post with non-english characters\n",
    "data = data[data['body'].str.contains(r'[^\\x00-\\x7F]+') == False]"
   ]
  },
  {
   "cell_type": "code",
   "execution_count": 11,
   "metadata": {},
   "outputs": [],
   "source": [
    "data['body'] = data['body'].str.replace('&lt;', '<')\n",
    "data['body'] = data['body'].str.replace('&gt;', '>')\n",
    "data['body'] = data['body'].str.replace('&amp;', '&')\n",
    "data['body'] = data['body'].str.replace('\\n', ' ')"
   ]
  },
  {
   "cell_type": "code",
   "execution_count": 12,
   "metadata": {},
   "outputs": [],
   "source": [
    "# group by author and check if they have more than one mbti \n",
    "author_mbti = data.groupby('author')['mbti'].nunique()\n",
    "# remove authors with more than one mbti\n",
    "author_mbti = author_mbti[author_mbti == 1]\n",
    "data = data[data['author'].isin(author_mbti.index)]"
   ]
  },
  {
   "cell_type": "code",
   "execution_count": 13,
   "metadata": {},
   "outputs": [],
   "source": [
    "# drop duplicates\n",
    "data = data.drop_duplicates(subset=['author', 'body'])"
   ]
  },
  {
   "cell_type": "code",
   "execution_count": 14,
   "metadata": {},
   "outputs": [],
   "source": [
    "# remove any post by Daenyx\n",
    "data = data[data['author'] != 'Daenyx']"
   ]
  },
  {
   "cell_type": "code",
   "execution_count": 15,
   "metadata": {},
   "outputs": [],
   "source": [
    "# add a column length for the length of the body\n",
    "data['length'] = data['body'].str.len()"
   ]
  },
  {
   "cell_type": "code",
   "execution_count": 16,
   "metadata": {},
   "outputs": [
    {
     "data": {
      "text/plain": [
       "<Axes: ylabel='Frequency'>"
      ]
     },
     "execution_count": 16,
     "metadata": {},
     "output_type": "execute_result"
    },
    {
     "data": {
      "image/png": "[encoded data removed]",
      "text/plain": [
       "<Figure size 640x480 with 1 Axes>"
      ]
     },
     "metadata": {},
     "output_type": "display_data"
    }
   ],
   "source": [
    "# plot the length distribution\n",
    "data['length'].plot.hist(bins=100)"
   ]
  },
  {
   "cell_type": "code",
   "execution_count": 17,
   "metadata": {},
   "outputs": [
    {
     "data": {
      "text/plain": [
       "(14496778, 4)"
      ]
     },
     "execution_count": 17,
     "metadata": {},
     "output_type": "execute_result"
    }
   ],
   "source": [
    "data.shape"
   ]
  },
  {
   "cell_type": "code",
   "execution_count": 18,
   "metadata": {},
   "outputs": [
    {
     "data": {
      "text/plain": [
       "(14407571, 4)"
      ]
     },
     "execution_count": 18,
     "metadata": {},
     "output_type": "execute_result"
    }
   ],
   "source": [
    "# remove post with more than 2000 characters. \n",
    "data = data[data['length'] <= 2000]\n",
    "data.shape"
   ]
  },
  {
   "cell_type": "code",
   "execution_count": 19,
   "metadata": {},
   "outputs": [
    {
     "data": {
      "text/plain": [
       "<Axes: ylabel='Frequency'>"
      ]
     },
     "execution_count": 19,
     "metadata": {},
     "output_type": "execute_result"
    },
    {
     "data": {
      "image/png": "[encoded data removed]",
      "text/plain": [
       "<Figure size 640x480 with 1 Axes>"
      ]
     },
     "metadata": {},
     "output_type": "display_data"
    }
   ],
   "source": [
    "# plot the length distribution\n",
    "data['length'].plot.hist(bins=100)"
   ]
  },
  {
   "cell_type": "code",
   "execution_count": 20,
   "metadata": {},
   "outputs": [
    {
     "data": {
      "text/html": [
       "<div>\n",
       "<style scoped>\n",
       "    .dataframe tbody tr th:only-of-type {\n",
       "        vertical-align: middle;\n",
       "    }\n",
       "\n",
       "    .dataframe tbody tr th {\n",
       "        vertical-align: top;\n",
       "    }\n",
       "\n",
       "    .dataframe thead th {\n",
       "        text-align: right;\n",
       "    }\n",
       "</style>\n",
       "<table border=\"1\" class=\"dataframe\">\n",
       "  <thead>\n",
       "    <tr style=\"text-align: right;\">\n",
       "      <th></th>\n",
       "      <th>body</th>\n",
       "      <th>author</th>\n",
       "      <th>mbti</th>\n",
       "      <th>length</th>\n",
       "    </tr>\n",
       "  </thead>\n",
       "  <tbody>\n",
       "    <tr>\n",
       "      <th>0</th>\n",
       "      <td>Lol that's why I left.</td>\n",
       "      <td>LadyBanterbury</td>\n",
       "      <td>INFP</td>\n",
       "      <td>23</td>\n",
       "    </tr>\n",
       "    <tr>\n",
       "      <th>1</th>\n",
       "      <td>I was just about to post \"I try telling people...</td>\n",
       "      <td>Finarin</td>\n",
       "      <td>INTP</td>\n",
       "      <td>231</td>\n",
       "    </tr>\n",
       "    <tr>\n",
       "      <th>2</th>\n",
       "      <td>My first thought was Pepsi or something. Proba...</td>\n",
       "      <td>xanplease</td>\n",
       "      <td>INFP</td>\n",
       "      <td>62</td>\n",
       "    </tr>\n",
       "    <tr>\n",
       "      <th>3</th>\n",
       "      <td>Not if the formula is something like \"every ti...</td>\n",
       "      <td>HeirToGallifrey</td>\n",
       "      <td>ENTP</td>\n",
       "      <td>103</td>\n",
       "    </tr>\n",
       "    <tr>\n",
       "      <th>5</th>\n",
       "      <td>Well, I wouldn't know but I think there's a lo...</td>\n",
       "      <td>ElementalVoltage</td>\n",
       "      <td>INTP</td>\n",
       "      <td>324</td>\n",
       "    </tr>\n",
       "  </tbody>\n",
       "</table>\n",
       "</div>"
      ],
      "text/plain": [
       "                                                body            author  mbti  \\\n",
       "0                            Lol that's why I left.     LadyBanterbury  INFP   \n",
       "1  I was just about to post \"I try telling people...           Finarin  INTP   \n",
       "2  My first thought was Pepsi or something. Proba...         xanplease  INFP   \n",
       "3  Not if the formula is something like \"every ti...   HeirToGallifrey  ENTP   \n",
       "5  Well, I wouldn't know but I think there's a lo...  ElementalVoltage  INTP   \n",
       "\n",
       "   length  \n",
       "0      23  \n",
       "1     231  \n",
       "2      62  \n",
       "3     103  \n",
       "5     324  "
      ]
     },
     "execution_count": 20,
     "metadata": {},
     "output_type": "execute_result"
    }
   ],
   "source": [
    "data.head()"
   ]
  },
  {
   "cell_type": "code",
   "execution_count": 21,
   "metadata": {},
   "outputs": [],
   "source": [
    "import pandas as pd\n",
    "\n",
    "def combine_short_texts(df, n):\n",
    "    combined_data = []\n",
    "\n",
    "    for author, group in df.groupby('author'):\n",
    "        # Sort the group by length in ascending order\n",
    "        group = group.sort_values(by='length')\n",
    "        \n",
    "        current_body = \"\"\n",
    "        current_mbti = None\n",
    "        for _, row in group.iterrows():\n",
    "            if row['length'] >= n:\n",
    "                # If the current text is already long enough, add the previous combined text if it exists\n",
    "                if current_body:\n",
    "                    combined_data.append({'author': author, 'body': current_body, 'mbti': current_mbti, 'length': len(current_body)})\n",
    "                    current_body = \"\"\n",
    "                # Add the long text directly to the combined data\n",
    "                combined_data.append(row)\n",
    "            else:\n",
    "                if not current_body:\n",
    "                    current_mbti = row['mbti']\n",
    "                current_body += row['body'] + \" \"\n",
    "                if len(current_body) >= n:\n",
    "                    combined_data.append({'author': author, 'body': current_body.strip(), 'mbti': current_mbti, 'length': len(current_body)})\n",
    "                    current_body = \"\"\n",
    "\n",
    "        # Add any remaining combined text\n",
    "        if current_body:\n",
    "            combined_data.append({'author': author, 'body': current_body.strip(), 'mbti': current_mbti, 'length': len(current_body)})\n",
    "\n",
    "    # Create a new DataFrame from the combined data\n",
    "    combined_df = pd.DataFrame(combined_data)\n",
    "    return combined_df\n",
    "\n",
    "\n"
   ]
  },
  {
   "cell_type": "code",
   "execution_count": 22,
   "metadata": {},
   "outputs": [],
   "source": [
    "combined_data = combine_short_texts(data, 2500)"
   ]
  },
  {
   "cell_type": "code",
   "execution_count": 23,
   "metadata": {},
   "outputs": [
    {
     "data": {
      "text/plain": [
       "<Axes: ylabel='Frequency'>"
      ]
     },
     "execution_count": 23,
     "metadata": {},
     "output_type": "execute_result"
    },
    {
     "data": {
      "image/png": "[encoded data removed]",
      "text/plain": [
       "<Figure size 640x480 with 1 Axes>"
      ]
     },
     "metadata": {},
     "output_type": "display_data"
    }
   ],
   "source": [
    "combined_data['length'] = combined_data['body'].str.len()\n",
    "combined_data['length'].plot.hist(bins=100)"
   ]
  },
  {
   "cell_type": "code",
   "execution_count": 24,
   "metadata": {},
   "outputs": [
    {
     "data": {
      "text/plain": [
       "<Axes: ylabel='Frequency'>"
      ]
     },
     "execution_count": 24,
     "metadata": {},
     "output_type": "execute_result"
    },
    {
     "data": {
      "image/png": "[encoded data removed]",
      "text/plain": [
       "<Figure size 640x480 with 1 Axes>"
      ]
     },
     "metadata": {},
     "output_type": "display_data"
    }
   ],
   "source": [
    "# split the body into words and count words \n",
    "combined_data['word_count'] = combined_data['body'].str.split().str.len()\n",
    "combined_data['word_count'].plot.hist(bins=100)"
   ]
  },
  {
   "cell_type": "code",
   "execution_count": 25,
   "metadata": {},
   "outputs": [
    {
     "data": {
      "text/plain": [
       "<Axes: ylabel='Frequency'>"
      ]
     },
     "execution_count": 25,
     "metadata": {},
     "output_type": "execute_result"
    },
    {
     "data": {
      "image/png": "[encoded data removed]",
      "text/plain": [
       "<Figure size 640x480 with 1 Axes>"
      ]
     },
     "metadata": {},
     "output_type": "display_data"
    }
   ],
   "source": [
    "# remove rows with word count less than 400 and more than 650 \n",
    "combined_data = combined_data[(combined_data['word_count'] >= 400) & (combined_data['word_count'] <= 650)]\n",
    "combined_data['word_count'].plot.hist(bins=100)"
   ]
  },
  {
   "cell_type": "code",
   "execution_count": 26,
   "metadata": {},
   "outputs": [
    {
     "data": {
      "text/plain": [
       "<Axes: ylabel='Frequency'>"
      ]
     },
     "execution_count": 26,
     "metadata": {},
     "output_type": "execute_result"
    },
    {
     "data": {
      "image/png": "[encoded data removed]",
      "text/plain": [
       "<Figure size 640x480 with 1 Axes>"
      ]
     },
     "metadata": {},
     "output_type": "display_data"
    }
   ],
   "source": [
    "# remove rows with word count less than 440 and more than 530 \n",
    "combined_data = combined_data[(combined_data['word_count'] >= 440) & (combined_data['word_count'] <= 530)]\n",
    "combined_data['word_count'].plot.hist(bins=100)"
   ]
  },
  {
   "cell_type": "code",
   "execution_count": 27,
   "metadata": {},
   "outputs": [],
   "source": [
    "combined_data = combined_data.drop(columns=['length', 'word_count'])\n",
    "# split mbti into 4 columns\n",
    "combined_data['E-I'] = combined_data['mbti'].str[0]\n",
    "combined_data['N-S'] = combined_data['mbti'].str[1]\n",
    "combined_data['F-T'] = combined_data['mbti'].str[2]\n",
    "combined_data['J-P'] = combined_data['mbti'].str[3]"
   ]
  },
  {
   "cell_type": "code",
   "execution_count": 28,
   "metadata": {},
   "outputs": [],
   "source": [
    "# shuffle the data \n",
    "combined_data = combined_data.sample(frac=1, random_state=42)"
   ]
  },
  {
   "cell_type": "code",
   "execution_count": 33,
   "metadata": {},
   "outputs": [
    {
     "name": "stdout",
     "output_type": "stream",
     "text": [
      "E-I\n",
      "I    0.787041\n",
      "E    0.212959\n",
      "Name: proportion, dtype: float64\n",
      "N-S\n",
      "N    0.924984\n",
      "S    0.075016\n",
      "Name: proportion, dtype: float64\n",
      "F-T\n",
      "T    0.539207\n",
      "F    0.460793\n",
      "Name: proportion, dtype: float64\n",
      "J-P\n",
      "P    0.599108\n",
      "J    0.400892\n",
      "Name: proportion, dtype: float64\n"
     ]
    }
   ],
   "source": [
    "# print the percentage of each mbti type\n",
    "print(combined_data['E-I'].value_counts(normalize=True))\n",
    "print(combined_data['N-S'].value_counts(normalize=True))\n",
    "print(combined_data['F-T'].value_counts(normalize=True))\n",
    "print(combined_data['J-P'].value_counts(normalize=True))"
   ]
  },
  {
   "cell_type": "code",
   "execution_count": 34,
   "metadata": {},
   "outputs": [
    {
     "name": "stdout",
     "output_type": "stream",
     "text": [
      "Baseline F1 score for mbti_0: 0.8808314974306689\n",
      "Baseline F1 score for mbti_1: 0.9610303254468608\n",
      "Baseline F1 score for mbti_2: 0.700629609922512\n",
      "Baseline F1 score for mbti_3: 0.7493027362754735\n"
     ]
    }
   ],
   "source": [
    "# Proportions for each MBTI dimension\n",
    "proportions = {\n",
    "    'mbti_0': {'E': 0.212959, 'I': 0.787041},\n",
    "    'mbti_1': {'N': 0.924984, 'S': 0.075016},\n",
    "    'mbti_2': {'F': 0.460793, 'T': 0.539207},\n",
    "    'mbti_3': {'J': 0.400892, 'P': 0.599108}\n",
    "}\n",
    "\n",
    "# Function to calculate baseline F1 score\n",
    "def calculate_baseline_f1(proportions):\n",
    "    f1_scores = {}\n",
    "    for dim, prop in proportions.items():\n",
    "        r = max(prop.values())\n",
    "        f1_scores[dim] = 2 * r / (1 + r)\n",
    "    return f1_scores\n",
    "\n",
    "# Calculate baseline F1 scores\n",
    "baseline_f1_scores = calculate_baseline_f1(proportions)\n",
    "for dim, score in baseline_f1_scores.items():\n",
    "    print(f\"Baseline F1 score for {dim}: {score}\")"
   ]
  },
  {
   "cell_type": "code",
   "execution_count": 29,
   "metadata": {},
   "outputs": [],
   "source": [
    "# import train_test_split\n",
    "from sklearn.model_selection import train_test_split\n",
    "\n",
    "# split the data into train and test\n",
    "train_data, test_data = train_test_split(combined_data, test_size=0.2, random_state=42, stratify=combined_data['mbti'])"
   ]
  },
  {
   "cell_type": "code",
   "execution_count": 30,
   "metadata": {},
   "outputs": [],
   "source": [
    "# save the data into DATA_PATH\n",
    "train_data.to_csv(DATA_PATH + \"train.csv\", index=False)\n",
    "test_data.to_csv(DATA_PATH + \"test.csv\", index=False)"
   ]
  }
 ],
 "metadata": {
  "kernelspec": {
   "display_name": "zmh-mbti-env",
   "language": "python",
   "name": "python3"
  },
  "language_info": {
   "codemirror_mode": {
    "name": "ipython",
    "version": 3
   },
   "file_extension": ".py",
   "mimetype": "text/x-python",
   "name": "python",
   "nbconvert_exporter": "python",
   "pygments_lexer": "ipython3",
   "version": "3.12.4"
  }
 },
 "nbformat": 4,
 "nbformat_minor": 2
}

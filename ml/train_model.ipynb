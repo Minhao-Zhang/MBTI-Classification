{
 "cells": [
  {
   "cell_type": "code",
   "execution_count": 1,
   "metadata": {},
   "outputs": [],
   "source": [
    "import pandas as pd \n",
    "import numpy as np\n",
    "import pickle\n",
    "\n",
    "DATA_PATH = './data/'"
   ]
  },
  {
   "cell_type": "code",
   "execution_count": 2,
   "metadata": {},
   "outputs": [],
   "source": [
    "with open(f\"{DATA_PATH}train.pkl\", 'rb') as f:\n",
    "    data = pickle.load(f)"
   ]
  },
  {
   "cell_type": "code",
   "execution_count": 3,
   "metadata": {},
   "outputs": [],
   "source": [
    "from sklearn.model_selection import train_test_split\n",
    "from sklearn.metrics import accuracy_score\n",
    "from sklearn.metrics import f1_score\n",
    "from sklearn.preprocessing import LabelEncoder\n",
    "train, valid = train_test_split(data, test_size=0.2, random_state=42, stratify=data['mbti'], shuffle=True)\n",
    "\n",
    "y_train = train['mbti']\n",
    "X_train = train.drop('mbti', axis=1)\n",
    "y_valid = valid['mbti']\n",
    "X_valid = valid.drop('mbti', axis=1)\n",
    "\n",
    "# Convert y_train and y_valid to separate binary columns for each MBTI character\n",
    "y_train_binary = pd.DataFrame({\n",
    "    'I-E': y_train.apply(lambda x: 1 if x[0] == 'I' else 0),\n",
    "    'N-S': y_train.apply(lambda x: 1 if x[1] == 'N' else 0),\n",
    "    'T-F': y_train.apply(lambda x: 1 if x[2] == 'T' else 0),\n",
    "    'J-P': y_train.apply(lambda x: 1 if x[3] == 'J' else 0)\n",
    "})\n",
    "\n",
    "y_valid_binary = pd.DataFrame({\n",
    "    'I-E': y_valid.apply(lambda x: 1 if x[0] == 'I' else 0),\n",
    "    'N-S': y_valid.apply(lambda x: 1 if x[1] == 'N' else 0),\n",
    "    'T-F': y_valid.apply(lambda x: 1 if x[2] == 'T' else 0),\n",
    "    'J-P': y_valid.apply(lambda x: 1 if x[3] == 'J' else 0)\n",
    "})"
   ]
  },
  {
   "cell_type": "code",
   "execution_count": 4,
   "metadata": {},
   "outputs": [
    {
     "name": "stdout",
     "output_type": "stream",
     "text": [
      "CatBoost Results\n",
      "Results for I-E:\n",
      "Accuracy: 0.5749811664725644\n",
      "F1 Score: 0.6812522613899912\n",
      "------------------------------\n",
      "Results for N-S:\n",
      "Accuracy: 0.5808220315691442\n",
      "F1 Score: 0.7188974310695523\n",
      "------------------------------\n",
      "Results for T-F:\n",
      "Accuracy: 0.62119399620759\n",
      "F1 Score: 0.6462075995745183\n",
      "------------------------------\n",
      "Results for J-P:\n",
      "Accuracy: 0.5779114853869622\n",
      "F1 Score: 0.5179044074472218\n",
      "------------------------------\n"
     ]
    }
   ],
   "source": [
    "from catboost import CatBoostClassifier\n",
    "\n",
    "# List to store models and performance metrics\n",
    "models = {}\n",
    "accuracy_scores = {}\n",
    "f1_scores = {}\n",
    "\n",
    "print(\"CatBoost Results\")\n",
    "# Train and evaluate a model for each binary classification problem\n",
    "for column in y_train_binary.columns:\n",
    "    # Initialize the CatBoostClassifier\n",
    "    model = CatBoostClassifier(verbose=0, task_type=\"GPU\", devices='0:1', auto_class_weights=\"Balanced\")\n",
    "    \n",
    "    # Fit the model\n",
    "    model.fit(X_train, y_train_binary[column])\n",
    "    \n",
    "    # Predict on the validation set\n",
    "    y_pred = model.predict(X_valid)\n",
    "    \n",
    "    # Calculate accuracy and F1 score\n",
    "    accuracy = accuracy_score(y_valid_binary[column], y_pred)\n",
    "    f1 = f1_score(y_valid_binary[column], y_pred)\n",
    "    \n",
    "    # Store the model and metrics\n",
    "    models[column] = model\n",
    "    accuracy_scores[column] = accuracy\n",
    "    f1_scores[column] = f1\n",
    "    \n",
    "    # Print the results\n",
    "    print(f\"Results for {column}:\")\n",
    "    print(f\"Accuracy: {accuracy}\")\n",
    "    print(f\"F1 Score: {f1}\")\n",
    "    print(\"-\" * 30)"
   ]
  },
  {
   "cell_type": "code",
   "execution_count": 5,
   "metadata": {},
   "outputs": [
    {
     "name": "stdout",
     "output_type": "stream",
     "text": [
      "XGBoost Results\n",
      "Results for I-E:\n",
      "Accuracy: 0.789082288179663\n",
      "F1 Score: 0.8819406399516566\n",
      "------------------------------\n",
      "Results for N-S:\n",
      "Accuracy: 0.9262813224794215\n",
      "F1 Score: 0.9617108767072361\n",
      "------------------------------\n",
      "Results for T-F:\n",
      "Accuracy: 0.6284624525701586\n",
      "F1 Score: 0.6793414267040276\n",
      "------------------------------\n",
      "Results for J-P:\n",
      "Accuracy: 0.6161875404105215\n",
      "F1 Score: 0.32465399789858956\n",
      "------------------------------\n"
     ]
    }
   ],
   "source": [
    "from xgboost import XGBClassifier\n",
    "\n",
    "# List to store models and performance metrics\n",
    "models = {}\n",
    "accuracy_scores = {}\n",
    "f1_scores = {}\n",
    "\n",
    "\n",
    "print(\"XGBoost Results\")\n",
    "# Train and evaluate a model for each binary classification problem\n",
    "for column in y_train_binary.columns:\n",
    "    # Initialize the CatBoostClassifier\n",
    "    model = XGBClassifier(device=\"cuda\")\n",
    "    \n",
    "    # Fit the model\n",
    "    model.fit(X_train, y_train_binary[column])\n",
    "    \n",
    "    # Predict on the validation set\n",
    "    y_pred = model.predict(X_valid)\n",
    "    \n",
    "    # Calculate accuracy and F1 score\n",
    "    accuracy = accuracy_score(y_valid_binary[column], y_pred)\n",
    "    f1 = f1_score(y_valid_binary[column], y_pred)\n",
    "    \n",
    "    # Store the model and metrics\n",
    "    models[column] = model\n",
    "    accuracy_scores[column] = accuracy\n",
    "    f1_scores[column] = f1\n",
    "    \n",
    "    # Print the results\n",
    "    print(f\"Results for {column}:\")\n",
    "    print(f\"Accuracy: {accuracy}\")\n",
    "    print(f\"F1 Score: {f1}\")\n",
    "    print(\"-\" * 30)"
   ]
  },
  {
   "cell_type": "code",
   "execution_count": 6,
   "metadata": {},
   "outputs": [
    {
     "name": "stdout",
     "output_type": "stream",
     "text": [
      "LightGBM Results\n",
      "Results for I-E:\n",
      "Accuracy: 0.5760607576515531\n",
      "F1 Score: 0.6826698793468866\n",
      "------------------------------\n",
      "Results for N-S:\n",
      "Accuracy: 0.5840311460077865\n",
      "F1 Score: 0.7217824963995382\n",
      "------------------------------\n",
      "Results for T-F:\n",
      "Accuracy: 0.6203536550884138\n",
      "F1 Score: 0.6453526709604966\n",
      "------------------------------\n",
      "Results for J-P:\n",
      "Accuracy: 0.5781368945342237\n",
      "F1 Score: 0.5158218655822229\n",
      "------------------------------\n"
     ]
    }
   ],
   "source": [
    "from lightgbm import LGBMClassifier \n",
    "\n",
    "\n",
    "# List to store models and performance metrics\n",
    "models = {}\n",
    "accuracy_scores = {}\n",
    "f1_scores = {}\n",
    "\n",
    "print(\"LightGBM Results\")\n",
    "# Train and evaluate a model for each binary classification problem\n",
    "for column in y_train_binary.columns:\n",
    "    # Initialize the CatBoostClassifier\n",
    "    model = LGBMClassifier(verbose=0, is_unbalance=True)\n",
    "        \n",
    "    # Fit the model\n",
    "    model.fit(X_train, y_train_binary[column])\n",
    "    \n",
    "    # Predict on the validation set\n",
    "    y_pred = model.predict(X_valid)\n",
    "    \n",
    "    # Calculate accuracy and F1 score\n",
    "    accuracy = accuracy_score(y_valid_binary[column], y_pred)\n",
    "    f1 = f1_score(y_valid_binary[column], y_pred)\n",
    "    \n",
    "    # Store the model and metrics\n",
    "    models[column] = model\n",
    "    accuracy_scores[column] = accuracy\n",
    "    f1_scores[column] = f1\n",
    "    \n",
    "    # Print the results\n",
    "    print(f\"Results for {column}:\")\n",
    "    print(f\"Accuracy: {accuracy}\")\n",
    "    print(f\"F1 Score: {f1}\")\n",
    "    print(\"-\" * 30)"
   ]
  }
 ],
 "metadata": {
  "kernelspec": {
   "display_name": ".venv",
   "language": "python",
   "name": "python3"
  },
  "language_info": {
   "codemirror_mode": {
    "name": "ipython",
    "version": 3
   },
   "file_extension": ".py",
   "mimetype": "text/x-python",
   "name": "python",
   "nbconvert_exporter": "python",
   "pygments_lexer": "ipython3",
   "version": "3.12.4"
  }
 },
 "nbformat": 4,
 "nbformat_minor": 2
}

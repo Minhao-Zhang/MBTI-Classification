{
 "cells": [
  {
   "cell_type": "code",
   "execution_count": 1,
   "metadata": {},
   "outputs": [],
   "source": [
    "import pandas as pd \n",
    "import numpy as np \n",
    "\n",
    "data = pd.read_csv('../data/train_test_split/reddit_post_cleaned.csv')"
   ]
  },
  {
   "cell_type": "code",
   "execution_count": 2,
   "metadata": {},
   "outputs": [],
   "source": [
    "# remove author column \n",
    "data = data.drop(columns=['author'])"
   ]
  },
  {
   "cell_type": "code",
   "execution_count": 3,
   "metadata": {},
   "outputs": [],
   "source": [
    "system = \"You are an agent trying to identify MBTI using online conversations. Try recognize the following message and reply in the format This is [MBTI].\""
   ]
  },
  {
   "cell_type": "code",
   "execution_count": 4,
   "metadata": {},
   "outputs": [],
   "source": [
    "# {\"messages\": [{\"role\": \"system\", \"content\": \"content1\"}, {\"role\": \"user\", \"content\": \"content2\"}, {\"role\": \"assistant\", \"content\": \"content3\"}]}"
   ]
  },
  {
   "cell_type": "code",
   "execution_count": 5,
   "metadata": {},
   "outputs": [],
   "source": [
    "# port this into jsonl format \n",
    "jsonl = []\n",
    "for index, row in data.iterrows():\n",
    "    if (index >= 1000000):\n",
    "        break\n",
    "    this_row = []\n",
    "    message = {\"role\": \"system\", \"content\": system}\n",
    "    this_row.append(message)\n",
    "    message = {\"role\": \"user\", \"content\": row['body']}\n",
    "    this_row.append(message)\n",
    "    message = {\"role\": \"assistant\", \"content\": \"This is \" + row['mbti'] + \".\"}\n",
    "    this_row.append(message)\n",
    "    # make this row into jsonl format\n",
    "    \n",
    "    jsonl.append({\"messages\": this_row})"
   ]
  },
  {
   "cell_type": "code",
   "execution_count": 6,
   "metadata": {},
   "outputs": [],
   "source": [
    "# save the file in jsonl \n",
    "with open('../data/reddit_post_1M.jsonl', 'w') as f:\n",
    "    for item in jsonl:\n",
    "        f.write(\"%s\\n\" % item)"
   ]
  }
 ],
 "metadata": {
  "kernelspec": {
   "display_name": ".venv",
   "language": "python",
   "name": "python3"
  },
  "language_info": {
   "codemirror_mode": {
    "name": "ipython",
    "version": 3
   },
   "file_extension": ".py",
   "mimetype": "text/x-python",
   "name": "python",
   "nbconvert_exporter": "python",
   "pygments_lexer": "ipython3",
   "version": "3.12.3"
  }
 },
 "nbformat": 4,
 "nbformat_minor": 2
}

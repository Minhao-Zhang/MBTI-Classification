{
 "cells": [
  {
   "cell_type": "code",
   "execution_count": 8,
   "metadata": {},
   "outputs": [],
   "source": [
    "import numpy as np\n",
    "import pandas as pd\n",
    "import nltk\n",
    "from nltk.tokenize import word_tokenize\n",
    "from gensim.models import Word2Vec\n",
    "from sklearn.model_selection import train_test_split\n",
    "import pickle"
   ]
  },
  {
   "cell_type": "code",
   "execution_count": 9,
   "metadata": {},
   "outputs": [
    {
     "name": "stdout",
     "output_type": "stream",
     "text": [
      "Processed pickled/tokenized_chunk_0.pkl\n",
      "Processed pickled/tokenized_chunk_1.pkl\n",
      "Processed pickled/tokenized_chunk_2.pkl\n",
      "Processed pickled/tokenized_chunk_3.pkl\n",
      "Processed pickled/tokenized_chunk_4.pkl\n",
      "Processed pickled/tokenized_chunk_5.pkl\n",
      "Processed pickled/tokenized_chunk_6.pkl\n",
      "Processed pickled/tokenized_chunk_7.pkl\n",
      "Processed pickled/tokenized_chunk_8.pkl\n",
      "Processed pickled/tokenized_chunk_9.pkl\n",
      "Processed pickled/tokenized_chunk_10.pkl\n",
      "Processed pickled/tokenized_chunk_11.pkl\n",
      "Processed pickled/tokenized_chunk_12.pkl\n",
      "Processed pickled/tokenized_chunk_13.pkl\n",
      "Processed pickled/tokenized_chunk_14.pkl\n",
      "Processed pickled/tokenized_chunk_15.pkl\n",
      "Processed pickled/tokenized_chunk_16.pkl\n",
      "Processed pickled/tokenized_chunk_17.pkl\n",
      "Processed pickled/tokenized_chunk_18.pkl\n",
      "Processed pickled/tokenized_chunk_19.pkl\n"
     ]
    },
    {
     "ename": "FileNotFoundError",
     "evalue": "[Errno 2] No such file or directory: 'pickled/tokenized_chunk_20.pkl'",
     "output_type": "error",
     "traceback": [
      "\u001b[0;31m---------------------------------------------------------------------------\u001b[0m",
      "\u001b[0;31mFileNotFoundError\u001b[0m                         Traceback (most recent call last)",
      "Cell \u001b[0;32mIn[9], line 24\u001b[0m\n\u001b[1;32m     22\u001b[0m \u001b[38;5;66;03m# Process each tokenized chunk file\u001b[39;00m\n\u001b[1;32m     23\u001b[0m \u001b[38;5;28;01mfor\u001b[39;00m file \u001b[38;5;129;01min\u001b[39;00m all_files:\n\u001b[0;32m---> 24\u001b[0m     \u001b[38;5;28;01mwith\u001b[39;00m \u001b[38;5;28;43mopen\u001b[39;49m\u001b[43m(\u001b[49m\u001b[43mfile\u001b[49m\u001b[43m,\u001b[49m\u001b[43m \u001b[49m\u001b[38;5;124;43m'\u001b[39;49m\u001b[38;5;124;43mrb\u001b[39;49m\u001b[38;5;124;43m'\u001b[39;49m\u001b[43m)\u001b[49m \u001b[38;5;28;01mas\u001b[39;00m f:\n\u001b[1;32m     25\u001b[0m         tokenized_chunk \u001b[38;5;241m=\u001b[39m pickle\u001b[38;5;241m.\u001b[39mload(f)\n\u001b[1;32m     27\u001b[0m         \u001b[38;5;66;03m# Transform each document in the chunk into a vector\u001b[39;00m\n",
      "File \u001b[0;32m/mnt/c/Users/zhang/Code/MBTI_Classifier/.venv/lib/python3.12/site-packages/IPython/core/interactiveshell.py:324\u001b[0m, in \u001b[0;36m_modified_open\u001b[0;34m(file, *args, **kwargs)\u001b[0m\n\u001b[1;32m    317\u001b[0m \u001b[38;5;28;01mif\u001b[39;00m file \u001b[38;5;129;01min\u001b[39;00m {\u001b[38;5;241m0\u001b[39m, \u001b[38;5;241m1\u001b[39m, \u001b[38;5;241m2\u001b[39m}:\n\u001b[1;32m    318\u001b[0m     \u001b[38;5;28;01mraise\u001b[39;00m \u001b[38;5;167;01mValueError\u001b[39;00m(\n\u001b[1;32m    319\u001b[0m         \u001b[38;5;124mf\u001b[39m\u001b[38;5;124m\"\u001b[39m\u001b[38;5;124mIPython won\u001b[39m\u001b[38;5;124m'\u001b[39m\u001b[38;5;124mt let you open fd=\u001b[39m\u001b[38;5;132;01m{\u001b[39;00mfile\u001b[38;5;132;01m}\u001b[39;00m\u001b[38;5;124m by default \u001b[39m\u001b[38;5;124m\"\u001b[39m\n\u001b[1;32m    320\u001b[0m         \u001b[38;5;124m\"\u001b[39m\u001b[38;5;124mas it is likely to crash IPython. If you know what you are doing, \u001b[39m\u001b[38;5;124m\"\u001b[39m\n\u001b[1;32m    321\u001b[0m         \u001b[38;5;124m\"\u001b[39m\u001b[38;5;124myou can use builtins\u001b[39m\u001b[38;5;124m'\u001b[39m\u001b[38;5;124m open.\u001b[39m\u001b[38;5;124m\"\u001b[39m\n\u001b[1;32m    322\u001b[0m     )\n\u001b[0;32m--> 324\u001b[0m \u001b[38;5;28;01mreturn\u001b[39;00m \u001b[43mio_open\u001b[49m\u001b[43m(\u001b[49m\u001b[43mfile\u001b[49m\u001b[43m,\u001b[49m\u001b[43m \u001b[49m\u001b[38;5;241;43m*\u001b[39;49m\u001b[43margs\u001b[49m\u001b[43m,\u001b[49m\u001b[43m \u001b[49m\u001b[38;5;241;43m*\u001b[39;49m\u001b[38;5;241;43m*\u001b[39;49m\u001b[43mkwargs\u001b[49m\u001b[43m)\u001b[49m\n",
      "\u001b[0;31mFileNotFoundError\u001b[0m: [Errno 2] No such file or directory: 'pickled/tokenized_chunk_20.pkl'"
     ]
    }
   ],
   "source": [
    "# Function to load tokenized chunks from disk\n",
    "def load_tokenized_chunk(file_path):\n",
    "    with open(file_path, 'rb') as f:\n",
    "        chunk = pickle.load(f)\n",
    "    return chunk\n",
    "\n",
    "# Function to transform text data into word vectors\n",
    "def document_vector(doc, model):\n",
    "    # Remove out-of-vocabulary words\n",
    "    doc = [word for word in doc if word in model.wv.key_to_index]\n",
    "    return np.mean(model.wv[doc], axis=0) if len(doc) > 0 else np.zeros(model.vector_size)\n",
    "\n",
    "# Load the trained Word2Vec model\n",
    "model = Word2Vec.load(\"models/word2vec.model\")\n",
    "\n",
    "# List of all tokenized chunk files\n",
    "all_files = [f'pickled/tokenized_chunk_{i}.pkl' for i in range(20)]\n",
    "\n",
    "# Create an empty DataFrame to hold the new dataset\n",
    "new_dataset = pd.DataFrame()\n",
    "\n",
    "# Process each tokenized chunk file\n",
    "for file in all_files:\n",
    "    with open(file, 'rb') as f:\n",
    "        tokenized_chunk = pickle.load(f)\n",
    "        \n",
    "        # Transform each document in the chunk into a vector\n",
    "        tokenized_chunk['vector'] = tokenized_chunk['tokens'].apply(lambda x: document_vector(x, model))\n",
    "        \n",
    "        # Drop the original tokens column\n",
    "        tokenized_chunk = tokenized_chunk.drop(columns=['tokens', 'body'])\n",
    "        \n",
    "        # Append the transformed chunk to the new dataset\n",
    "        new_dataset = pd.concat([new_dataset, tokenized_chunk], ignore_index=True)\n",
    "        print(f'Processed {file}')"
   ]
  },
  {
   "cell_type": "code",
   "execution_count": 10,
   "metadata": {},
   "outputs": [],
   "source": [
    "# save to file \n",
    "new_dataset.to_pickle('pickled/word2vec_dataset.pkl')"
   ]
  },
  {
   "cell_type": "code",
   "execution_count": 11,
   "metadata": {},
   "outputs": [],
   "source": [
    "train_indices, test_indices = train_test_split(range(len(new_dataset['mbti'])), \n",
    "                                               test_size=0.3, \n",
    "                                               stratify=new_dataset['mbti'], \n",
    "                                               random_state=42)"
   ]
  },
  {
   "cell_type": "code",
   "execution_count": 12,
   "metadata": {},
   "outputs": [],
   "source": [
    "# save the indices\n",
    "with open('pickled/train_indices.pkl', 'wb') as f:\n",
    "    pickle.dump(train_indices, f)\n",
    "with open('pickled/test_indices.pkl', 'wb') as f:\n",
    "    pickle.dump(test_indices, f)"
   ]
  }
 ],
 "metadata": {
  "kernelspec": {
   "display_name": ".venv",
   "language": "python",
   "name": "python3"
  },
  "language_info": {
   "codemirror_mode": {
    "name": "ipython",
    "version": 3
   },
   "file_extension": ".py",
   "mimetype": "text/x-python",
   "name": "python",
   "nbconvert_exporter": "python",
   "pygments_lexer": "ipython3",
   "version": "3.12.3"
  }
 },
 "nbformat": 4,
 "nbformat_minor": 2
}

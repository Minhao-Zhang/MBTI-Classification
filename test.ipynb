{
 "cells": [
  {
   "cell_type": "code",
   "execution_count": 4,
   "metadata": {},
   "outputs": [],
   "source": [
    "import numpy as np\n",
    "import pandas as pd \n",
    "import matplotlib.pyplot as plt"
   ]
  },
  {
   "cell_type": "code",
   "execution_count": 5,
   "metadata": {},
   "outputs": [],
   "source": [
    "data = pd.read_csv('data/reddit_post.csv')"
   ]
  },
  {
   "cell_type": "code",
   "execution_count": 6,
   "metadata": {},
   "outputs": [],
   "source": [
    "\n",
    "# Function to concatenate body strings of each author\n",
    "def concatenate_bodies(group):\n",
    "    concatenated = ''\n",
    "    for body in group['body']:\n",
    "        if len(body) >= 300:\n",
    "            yield body\n",
    "        else:\n",
    "            if len(concatenated) > 0:\n",
    "                concatenated += ' '\n",
    "            concatenated += body\n",
    "            if len(concatenated) >= 300:\n",
    "                yield concatenated\n",
    "                concatenated = ''\n",
    "    if len(concatenated) > 0:\n",
    "        yield concatenated\n",
    "\n",
    "# List to collect the new rows\n",
    "new_rows = []\n",
    "\n",
    "# Group by 'author' and process each group\n",
    "for author, group in data.groupby('author'):\n",
    "    for concatenated_body in concatenate_bodies(group):\n",
    "        if len(concatenated_body) >= 300:\n",
    "            new_rows.append({\n",
    "                'author': author,\n",
    "                'body': concatenated_body,\n",
    "                'mbti': group.iloc[0]['mbti']  # assuming 'mbti' is the same for all rows of the same author\n",
    "            })\n",
    "\n",
    "# Create a new DataFrame from the new rows\n",
    "new_df = pd.DataFrame(new_rows)"
   ]
  },
  {
   "cell_type": "code",
   "execution_count": 9,
   "metadata": {},
   "outputs": [
    {
     "data": {
      "text/plain": [
       "<Axes: >"
      ]
     },
     "execution_count": 9,
     "metadata": {},
     "output_type": "execute_result"
    },
    {
     "data": {
      "image/png": "[encoded data removed]",
      "text/plain": [
       "<Figure size 640x480 with 1 Axes>"
      ]
     },
     "metadata": {},
     "output_type": "display_data"
    }
   ],
   "source": [
    "# plot the distribution of the length of the concatenated bodies\n",
    "new_df['body'].apply(len).hist(bins=50)\n"
   ]
  },
  {
   "cell_type": "code",
   "execution_count": 10,
   "metadata": {},
   "outputs": [],
   "source": [
    "# save the new DataFrame to a new CSV file\n",
    "new_df.to_csv('data/reddit_post_combined.csv', index=False)"
   ]
  }
 ],
 "metadata": {
  "kernelspec": {
   "display_name": ".venv",
   "language": "python",
   "name": "python3"
  },
  "language_info": {
   "codemirror_mode": {
    "name": "ipython",
    "version": 3
   },
   "file_extension": ".py",
   "mimetype": "text/x-python",
   "name": "python",
   "nbconvert_exporter": "python",
   "pygments_lexer": "ipython3",
   "version": "3.12.3"
  }
 },
 "nbformat": 4,
 "nbformat_minor": 2
}
